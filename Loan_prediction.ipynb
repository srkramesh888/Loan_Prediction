{
 "cells": [
  {
   "cell_type": "markdown",
   "id": "97a6e2ae",
   "metadata": {},
   "source": [
    "# Liraries"
   ]
  },
  {
   "cell_type": "code",
   "execution_count": 27,
   "id": "52c2a47b",
   "metadata": {},
   "outputs": [],
   "source": [
    "# Other libraries\n",
    "import os\n",
    "\n",
    "# Dataproccesing \n",
    "import pandas as pd \n",
    "import numpy as np \n",
    "\n",
    "## Ploting Libraries\n",
    "import matplotlib.pyplot as plt\n",
    "import seaborn as sns\n",
    "\n",
    "## ML Libraries\n",
    "from sklearn.preprocessing import LabelEncoder\n",
    "from sklearn.model_selection import train_test_split\n",
    "from sklearn.metrics import confusion_matrix\n",
    "from sklearn.metrics import classification_report\n",
    "from sklearn.metrics import accuracy_score\n",
    "\n",
    "# Models\n",
    "from xgboost import XGBClassifier\n",
    "from sklearn.tree import DecisionTreeClassifier\n",
    "from sklearn.ensemble import RandomForestClassifier\n",
    "from sklearn.linear_model import LogisticRegression"
   ]
  },
  {
   "cell_type": "code",
   "execution_count": 28,
   "id": "63953ac1",
   "metadata": {},
   "outputs": [
    {
     "data": {
      "text/html": [
       "<div>\n",
       "<style scoped>\n",
       "    .dataframe tbody tr th:only-of-type {\n",
       "        vertical-align: middle;\n",
       "    }\n",
       "\n",
       "    .dataframe tbody tr th {\n",
       "        vertical-align: top;\n",
       "    }\n",
       "\n",
       "    .dataframe thead th {\n",
       "        text-align: right;\n",
       "    }\n",
       "</style>\n",
       "<table border=\"1\" class=\"dataframe\">\n",
       "  <thead>\n",
       "    <tr style=\"text-align: right;\">\n",
       "      <th></th>\n",
       "      <th>Loan_ID</th>\n",
       "      <th>Gender</th>\n",
       "      <th>Married</th>\n",
       "      <th>Dependents</th>\n",
       "      <th>Education</th>\n",
       "      <th>Self_Employed</th>\n",
       "      <th>ApplicantIncome</th>\n",
       "      <th>CoapplicantIncome</th>\n",
       "      <th>LoanAmount</th>\n",
       "      <th>Loan_Amount_Term</th>\n",
       "      <th>Credit_History</th>\n",
       "      <th>Property_Area</th>\n",
       "      <th>Loan_Status</th>\n",
       "    </tr>\n",
       "  </thead>\n",
       "  <tbody>\n",
       "    <tr>\n",
       "      <th>0</th>\n",
       "      <td>LP001002</td>\n",
       "      <td>Male</td>\n",
       "      <td>No</td>\n",
       "      <td>0</td>\n",
       "      <td>Graduate</td>\n",
       "      <td>No</td>\n",
       "      <td>5849</td>\n",
       "      <td>0.0</td>\n",
       "      <td>NaN</td>\n",
       "      <td>360.0</td>\n",
       "      <td>1.0</td>\n",
       "      <td>Urban</td>\n",
       "      <td>Y</td>\n",
       "    </tr>\n",
       "    <tr>\n",
       "      <th>1</th>\n",
       "      <td>LP001003</td>\n",
       "      <td>Male</td>\n",
       "      <td>Yes</td>\n",
       "      <td>1</td>\n",
       "      <td>Graduate</td>\n",
       "      <td>No</td>\n",
       "      <td>4583</td>\n",
       "      <td>1508.0</td>\n",
       "      <td>128.0</td>\n",
       "      <td>360.0</td>\n",
       "      <td>1.0</td>\n",
       "      <td>Rural</td>\n",
       "      <td>N</td>\n",
       "    </tr>\n",
       "    <tr>\n",
       "      <th>2</th>\n",
       "      <td>LP001005</td>\n",
       "      <td>Male</td>\n",
       "      <td>Yes</td>\n",
       "      <td>0</td>\n",
       "      <td>Graduate</td>\n",
       "      <td>Yes</td>\n",
       "      <td>3000</td>\n",
       "      <td>0.0</td>\n",
       "      <td>66.0</td>\n",
       "      <td>360.0</td>\n",
       "      <td>1.0</td>\n",
       "      <td>Urban</td>\n",
       "      <td>Y</td>\n",
       "    </tr>\n",
       "    <tr>\n",
       "      <th>3</th>\n",
       "      <td>LP001006</td>\n",
       "      <td>Male</td>\n",
       "      <td>Yes</td>\n",
       "      <td>0</td>\n",
       "      <td>Not Graduate</td>\n",
       "      <td>No</td>\n",
       "      <td>2583</td>\n",
       "      <td>2358.0</td>\n",
       "      <td>120.0</td>\n",
       "      <td>360.0</td>\n",
       "      <td>1.0</td>\n",
       "      <td>Urban</td>\n",
       "      <td>Y</td>\n",
       "    </tr>\n",
       "    <tr>\n",
       "      <th>4</th>\n",
       "      <td>LP001008</td>\n",
       "      <td>Male</td>\n",
       "      <td>No</td>\n",
       "      <td>0</td>\n",
       "      <td>Graduate</td>\n",
       "      <td>No</td>\n",
       "      <td>6000</td>\n",
       "      <td>0.0</td>\n",
       "      <td>141.0</td>\n",
       "      <td>360.0</td>\n",
       "      <td>1.0</td>\n",
       "      <td>Urban</td>\n",
       "      <td>Y</td>\n",
       "    </tr>\n",
       "  </tbody>\n",
       "</table>\n",
       "</div>"
      ],
      "text/plain": [
       "    Loan_ID Gender Married Dependents     Education Self_Employed  \\\n",
       "0  LP001002   Male      No          0      Graduate            No   \n",
       "1  LP001003   Male     Yes          1      Graduate            No   \n",
       "2  LP001005   Male     Yes          0      Graduate           Yes   \n",
       "3  LP001006   Male     Yes          0  Not Graduate            No   \n",
       "4  LP001008   Male      No          0      Graduate            No   \n",
       "\n",
       "   ApplicantIncome  CoapplicantIncome  LoanAmount  Loan_Amount_Term  \\\n",
       "0             5849                0.0         NaN             360.0   \n",
       "1             4583             1508.0       128.0             360.0   \n",
       "2             3000                0.0        66.0             360.0   \n",
       "3             2583             2358.0       120.0             360.0   \n",
       "4             6000                0.0       141.0             360.0   \n",
       "\n",
       "   Credit_History Property_Area Loan_Status  \n",
       "0             1.0         Urban           Y  \n",
       "1             1.0         Rural           N  \n",
       "2             1.0         Urban           Y  \n",
       "3             1.0         Urban           Y  \n",
       "4             1.0         Urban           Y  "
      ]
     },
     "execution_count": 28,
     "metadata": {},
     "output_type": "execute_result"
    }
   ],
   "source": [
    "train_df = pd.read_csv(\"train_data.csv\")\n",
    "train_df.head()"
   ]
  },
  {
   "cell_type": "code",
   "execution_count": 29,
   "id": "f5197a76",
   "metadata": {},
   "outputs": [
    {
     "data": {
      "text/html": [
       "<div>\n",
       "<style scoped>\n",
       "    .dataframe tbody tr th:only-of-type {\n",
       "        vertical-align: middle;\n",
       "    }\n",
       "\n",
       "    .dataframe tbody tr th {\n",
       "        vertical-align: top;\n",
       "    }\n",
       "\n",
       "    .dataframe thead th {\n",
       "        text-align: right;\n",
       "    }\n",
       "</style>\n",
       "<table border=\"1\" class=\"dataframe\">\n",
       "  <thead>\n",
       "    <tr style=\"text-align: right;\">\n",
       "      <th></th>\n",
       "      <th>Loan_ID</th>\n",
       "      <th>Gender</th>\n",
       "      <th>Married</th>\n",
       "      <th>Dependents</th>\n",
       "      <th>Education</th>\n",
       "      <th>Self_Employed</th>\n",
       "      <th>ApplicantIncome</th>\n",
       "      <th>CoapplicantIncome</th>\n",
       "      <th>LoanAmount</th>\n",
       "      <th>Loan_Amount_Term</th>\n",
       "      <th>Credit_History</th>\n",
       "      <th>Property_Area</th>\n",
       "    </tr>\n",
       "  </thead>\n",
       "  <tbody>\n",
       "    <tr>\n",
       "      <th>0</th>\n",
       "      <td>LP001015</td>\n",
       "      <td>Male</td>\n",
       "      <td>Yes</td>\n",
       "      <td>0</td>\n",
       "      <td>Graduate</td>\n",
       "      <td>No</td>\n",
       "      <td>5720</td>\n",
       "      <td>0</td>\n",
       "      <td>110.0</td>\n",
       "      <td>360.0</td>\n",
       "      <td>1.0</td>\n",
       "      <td>Urban</td>\n",
       "    </tr>\n",
       "    <tr>\n",
       "      <th>1</th>\n",
       "      <td>LP001022</td>\n",
       "      <td>Male</td>\n",
       "      <td>Yes</td>\n",
       "      <td>1</td>\n",
       "      <td>Graduate</td>\n",
       "      <td>No</td>\n",
       "      <td>3076</td>\n",
       "      <td>1500</td>\n",
       "      <td>126.0</td>\n",
       "      <td>360.0</td>\n",
       "      <td>1.0</td>\n",
       "      <td>Urban</td>\n",
       "    </tr>\n",
       "    <tr>\n",
       "      <th>2</th>\n",
       "      <td>LP001031</td>\n",
       "      <td>Male</td>\n",
       "      <td>Yes</td>\n",
       "      <td>2</td>\n",
       "      <td>Graduate</td>\n",
       "      <td>No</td>\n",
       "      <td>5000</td>\n",
       "      <td>1800</td>\n",
       "      <td>208.0</td>\n",
       "      <td>360.0</td>\n",
       "      <td>1.0</td>\n",
       "      <td>Urban</td>\n",
       "    </tr>\n",
       "    <tr>\n",
       "      <th>3</th>\n",
       "      <td>LP001035</td>\n",
       "      <td>Male</td>\n",
       "      <td>Yes</td>\n",
       "      <td>2</td>\n",
       "      <td>Graduate</td>\n",
       "      <td>No</td>\n",
       "      <td>2340</td>\n",
       "      <td>2546</td>\n",
       "      <td>100.0</td>\n",
       "      <td>360.0</td>\n",
       "      <td>NaN</td>\n",
       "      <td>Urban</td>\n",
       "    </tr>\n",
       "    <tr>\n",
       "      <th>4</th>\n",
       "      <td>LP001051</td>\n",
       "      <td>Male</td>\n",
       "      <td>No</td>\n",
       "      <td>0</td>\n",
       "      <td>Not Graduate</td>\n",
       "      <td>No</td>\n",
       "      <td>3276</td>\n",
       "      <td>0</td>\n",
       "      <td>78.0</td>\n",
       "      <td>360.0</td>\n",
       "      <td>1.0</td>\n",
       "      <td>Urban</td>\n",
       "    </tr>\n",
       "  </tbody>\n",
       "</table>\n",
       "</div>"
      ],
      "text/plain": [
       "    Loan_ID Gender Married Dependents     Education Self_Employed  \\\n",
       "0  LP001015   Male     Yes          0      Graduate            No   \n",
       "1  LP001022   Male     Yes          1      Graduate            No   \n",
       "2  LP001031   Male     Yes          2      Graduate            No   \n",
       "3  LP001035   Male     Yes          2      Graduate            No   \n",
       "4  LP001051   Male      No          0  Not Graduate            No   \n",
       "\n",
       "   ApplicantIncome  CoapplicantIncome  LoanAmount  Loan_Amount_Term  \\\n",
       "0             5720                  0       110.0             360.0   \n",
       "1             3076               1500       126.0             360.0   \n",
       "2             5000               1800       208.0             360.0   \n",
       "3             2340               2546       100.0             360.0   \n",
       "4             3276                  0        78.0             360.0   \n",
       "\n",
       "   Credit_History Property_Area  \n",
       "0             1.0         Urban  \n",
       "1             1.0         Urban  \n",
       "2             1.0         Urban  \n",
       "3             NaN         Urban  \n",
       "4             1.0         Urban  "
      ]
     },
     "execution_count": 29,
     "metadata": {},
     "output_type": "execute_result"
    }
   ],
   "source": [
    "test_df = pd.read_csv(\"test_data.csv\")\n",
    "test_df.head()"
   ]
  },
  {
   "cell_type": "code",
   "execution_count": 30,
   "id": "244e6e42",
   "metadata": {},
   "outputs": [
    {
     "name": "stdout",
     "output_type": "stream",
     "text": [
      "train dataset(row, col): (614, 13)\n",
      "test dataset(row, col): (367, 12)\n"
     ]
    }
   ],
   "source": [
    "print(f\"train dataset(row, col): {train_df.shape}\")\n",
    "print(f\"test dataset(row, col): {test_df.shape}\")"
   ]
  },
  {
   "cell_type": "code",
   "execution_count": 31,
   "id": "88db23bc",
   "metadata": {},
   "outputs": [
    {
     "name": "stdout",
     "output_type": "stream",
     "text": [
      "<class 'pandas.core.frame.DataFrame'>\n",
      "RangeIndex: 614 entries, 0 to 613\n",
      "Data columns (total 13 columns):\n",
      " #   Column             Non-Null Count  Dtype  \n",
      "---  ------             --------------  -----  \n",
      " 0   Loan_ID            614 non-null    object \n",
      " 1   Gender             601 non-null    object \n",
      " 2   Married            611 non-null    object \n",
      " 3   Dependents         599 non-null    object \n",
      " 4   Education          614 non-null    object \n",
      " 5   Self_Employed      582 non-null    object \n",
      " 6   ApplicantIncome    614 non-null    int64  \n",
      " 7   CoapplicantIncome  614 non-null    float64\n",
      " 8   LoanAmount         592 non-null    float64\n",
      " 9   Loan_Amount_Term   600 non-null    float64\n",
      " 10  Credit_History     564 non-null    float64\n",
      " 11  Property_Area      614 non-null    object \n",
      " 12  Loan_Status        614 non-null    object \n",
      "dtypes: float64(4), int64(1), object(8)\n",
      "memory usage: 62.5+ KB\n"
     ]
    }
   ],
   "source": [
    "train_df.info()"
   ]
  },
  {
   "cell_type": "code",
   "execution_count": 32,
   "id": "3c32da0a",
   "metadata": {},
   "outputs": [
    {
     "data": {
      "text/html": [
       "<div>\n",
       "<style scoped>\n",
       "    .dataframe tbody tr th:only-of-type {\n",
       "        vertical-align: middle;\n",
       "    }\n",
       "\n",
       "    .dataframe tbody tr th {\n",
       "        vertical-align: top;\n",
       "    }\n",
       "\n",
       "    .dataframe thead th {\n",
       "        text-align: right;\n",
       "    }\n",
       "</style>\n",
       "<table border=\"1\" class=\"dataframe\">\n",
       "  <thead>\n",
       "    <tr style=\"text-align: right;\">\n",
       "      <th></th>\n",
       "      <th>ApplicantIncome</th>\n",
       "      <th>CoapplicantIncome</th>\n",
       "      <th>LoanAmount</th>\n",
       "      <th>Loan_Amount_Term</th>\n",
       "      <th>Credit_History</th>\n",
       "    </tr>\n",
       "  </thead>\n",
       "  <tbody>\n",
       "    <tr>\n",
       "      <th>count</th>\n",
       "      <td>614.000000</td>\n",
       "      <td>614.000000</td>\n",
       "      <td>592.000000</td>\n",
       "      <td>600.00000</td>\n",
       "      <td>564.000000</td>\n",
       "    </tr>\n",
       "    <tr>\n",
       "      <th>mean</th>\n",
       "      <td>5403.459283</td>\n",
       "      <td>1621.245798</td>\n",
       "      <td>146.412162</td>\n",
       "      <td>342.00000</td>\n",
       "      <td>0.842199</td>\n",
       "    </tr>\n",
       "    <tr>\n",
       "      <th>std</th>\n",
       "      <td>6109.041673</td>\n",
       "      <td>2926.248369</td>\n",
       "      <td>85.587325</td>\n",
       "      <td>65.12041</td>\n",
       "      <td>0.364878</td>\n",
       "    </tr>\n",
       "    <tr>\n",
       "      <th>min</th>\n",
       "      <td>150.000000</td>\n",
       "      <td>0.000000</td>\n",
       "      <td>9.000000</td>\n",
       "      <td>12.00000</td>\n",
       "      <td>0.000000</td>\n",
       "    </tr>\n",
       "    <tr>\n",
       "      <th>25%</th>\n",
       "      <td>2877.500000</td>\n",
       "      <td>0.000000</td>\n",
       "      <td>100.000000</td>\n",
       "      <td>360.00000</td>\n",
       "      <td>1.000000</td>\n",
       "    </tr>\n",
       "    <tr>\n",
       "      <th>50%</th>\n",
       "      <td>3812.500000</td>\n",
       "      <td>1188.500000</td>\n",
       "      <td>128.000000</td>\n",
       "      <td>360.00000</td>\n",
       "      <td>1.000000</td>\n",
       "    </tr>\n",
       "    <tr>\n",
       "      <th>75%</th>\n",
       "      <td>5795.000000</td>\n",
       "      <td>2297.250000</td>\n",
       "      <td>168.000000</td>\n",
       "      <td>360.00000</td>\n",
       "      <td>1.000000</td>\n",
       "    </tr>\n",
       "    <tr>\n",
       "      <th>max</th>\n",
       "      <td>81000.000000</td>\n",
       "      <td>41667.000000</td>\n",
       "      <td>700.000000</td>\n",
       "      <td>480.00000</td>\n",
       "      <td>1.000000</td>\n",
       "    </tr>\n",
       "  </tbody>\n",
       "</table>\n",
       "</div>"
      ],
      "text/plain": [
       "       ApplicantIncome  CoapplicantIncome  LoanAmount  Loan_Amount_Term  \\\n",
       "count       614.000000         614.000000  592.000000         600.00000   \n",
       "mean       5403.459283        1621.245798  146.412162         342.00000   \n",
       "std        6109.041673        2926.248369   85.587325          65.12041   \n",
       "min         150.000000           0.000000    9.000000          12.00000   \n",
       "25%        2877.500000           0.000000  100.000000         360.00000   \n",
       "50%        3812.500000        1188.500000  128.000000         360.00000   \n",
       "75%        5795.000000        2297.250000  168.000000         360.00000   \n",
       "max       81000.000000       41667.000000  700.000000         480.00000   \n",
       "\n",
       "       Credit_History  \n",
       "count      564.000000  \n",
       "mean         0.842199  \n",
       "std          0.364878  \n",
       "min          0.000000  \n",
       "25%          1.000000  \n",
       "50%          1.000000  \n",
       "75%          1.000000  \n",
       "max          1.000000  "
      ]
     },
     "execution_count": 32,
     "metadata": {},
     "output_type": "execute_result"
    }
   ],
   "source": [
    "# Stats summary\n",
    "train_df.describe()"
   ]
  },
  {
   "cell_type": "code",
   "execution_count": 33,
   "id": "727f3bc6",
   "metadata": {},
   "outputs": [],
   "source": [
    "# Lets remove the Loan_ID Column which is not required in any instance of this project\n",
    "train_df.drop('Loan_ID',axis=1,inplace=True)\n",
    "test_df.drop('Loan_ID',axis=1,inplace=True)"
   ]
  },
  {
   "cell_type": "markdown",
   "id": "baed65e1",
   "metadata": {},
   "source": [
    "# Missing Values\n",
    "\n",
    "Now each of the missing values will be replaced with the most frequent values of the columns which it belongs to (Mode)\n",
    "\n",
    "Credit_History has 50 null values and has 2 unique values 1.0 (475 times) or 0.0 (89 times) therefore each null value will be replaced by the mode 1.0 so now it will show in our data 525 times."
   ]
  },
  {
   "cell_type": "code",
   "execution_count": 34,
   "id": "3dbbedd3",
   "metadata": {},
   "outputs": [
    {
     "data": {
      "text/plain": [
       "Credit_History       50\n",
       "Self_Employed        32\n",
       "LoanAmount           22\n",
       "Dependents           15\n",
       "Loan_Amount_Term     14\n",
       "Gender               13\n",
       "Married               3\n",
       "Education             0\n",
       "ApplicantIncome       0\n",
       "CoapplicantIncome     0\n",
       "Property_Area         0\n",
       "Loan_Status           0\n",
       "dtype: int64"
      ]
     },
     "execution_count": 34,
     "metadata": {},
     "output_type": "execute_result"
    }
   ],
   "source": [
    "train_df.isnull().sum().sort_values(ascending=False)"
   ]
  },
  {
   "cell_type": "code",
   "execution_count": 35,
   "id": "31888570",
   "metadata": {},
   "outputs": [
    {
     "name": "stdout",
     "output_type": "stream",
     "text": [
      "Credit_History:\n",
      "1.0    475\n",
      "0.0     89\n",
      "Name: Credit_History, dtype: int64\n",
      " --------------------------------------------------\n",
      "Self_Employed:\n",
      "No     500\n",
      "Yes     82\n",
      "Name: Self_Employed, dtype: int64\n",
      " --------------------------------------------------\n",
      "LoanAmount:\n",
      "120.0    20\n",
      "110.0    17\n",
      "100.0    15\n",
      "160.0    12\n",
      "187.0    12\n",
      "         ..\n",
      "240.0     1\n",
      "214.0     1\n",
      "59.0      1\n",
      "166.0     1\n",
      "253.0     1\n",
      "Name: LoanAmount, Length: 203, dtype: int64\n",
      " --------------------------------------------------\n",
      "Dependents:\n",
      "0     345\n",
      "1     102\n",
      "2     101\n",
      "3+     51\n",
      "Name: Dependents, dtype: int64\n",
      " --------------------------------------------------\n",
      "Loan_Amount_Term:\n",
      "360.0    512\n",
      "180.0     44\n",
      "480.0     15\n",
      "300.0     13\n",
      "240.0      4\n",
      "84.0       4\n",
      "120.0      3\n",
      "60.0       2\n",
      "36.0       2\n",
      "12.0       1\n",
      "Name: Loan_Amount_Term, dtype: int64\n",
      " --------------------------------------------------\n",
      "Gender:\n",
      "Male      489\n",
      "Female    112\n",
      "Name: Gender, dtype: int64\n",
      " --------------------------------------------------\n",
      "Married:\n",
      "Yes    398\n",
      "No     213\n",
      "Name: Married, dtype: int64\n",
      " --------------------------------------------------\n",
      "After filling null values\n",
      " ##################################################\n"
     ]
    },
    {
     "data": {
      "text/plain": [
       "Gender               0\n",
       "Married              0\n",
       "Dependents           0\n",
       "Education            0\n",
       "Self_Employed        0\n",
       "ApplicantIncome      0\n",
       "CoapplicantIncome    0\n",
       "LoanAmount           0\n",
       "Loan_Amount_Term     0\n",
       "Credit_History       0\n",
       "Property_Area        0\n",
       "Loan_Status          0\n",
       "dtype: int64"
      ]
     },
     "execution_count": 35,
     "metadata": {},
     "output_type": "execute_result"
    }
   ],
   "source": [
    "# Columns with null values \n",
    "\n",
    "null_cols = ['Credit_History', 'Self_Employed', 'LoanAmount','Dependents', 'Loan_Amount_Term', 'Gender', 'Married']\n",
    "\n",
    "\n",
    "# Filling the null values of the columns with the mode value\n",
    "\n",
    "for col in null_cols:\n",
    "    print(f\"{col}:\\n{train_df[col].value_counts()}\\n\",\"-\"*50)\n",
    "    train_df[col] = train_df[col].fillna(\n",
    "    train_df[col].dropna().mode().values[0] )\n",
    "\n",
    "\n",
    "# After filling the null values \n",
    "\n",
    "print(f\"After filling null values\\n\",'#'*50)\n",
    "train_df.isnull().sum().sort_values(ascending=False)"
   ]
  },
  {
   "cell_type": "code",
   "execution_count": 36,
   "id": "e04a86c4",
   "metadata": {},
   "outputs": [],
   "source": [
    "categorical_columns = train_df.select_dtypes('object').columns.to_list()"
   ]
  },
  {
   "cell_type": "code",
   "execution_count": 37,
   "id": "66e99318",
   "metadata": {},
   "outputs": [
    {
     "data": {
      "image/png": "[encoded data removed]",
      "text/plain": [
       "<Figure size 1080x720 with 1 Axes>"
      ]
     },
     "metadata": {},
     "output_type": "display_data"
    },
    {
     "data": {
      "image/png": "[encoded data removed]",
      "text/plain": [
       "<Figure size 1080x720 with 1 Axes>"
      ]
     },
     "metadata": {},
     "output_type": "display_data"
    },
    {
     "data": {
      "image/png": "[encoded data removed]",
      "text/plain": [
       "<Figure size 1080x720 with 1 Axes>"
      ]
     },
     "metadata": {},
     "output_type": "display_data"
    },
    {
     "data": {
      "image/png": "[encoded data removed]",
      "text/plain": [
       "<Figure size 1080x720 with 1 Axes>"
      ]
     },
     "metadata": {},
     "output_type": "display_data"
    },
    {
     "data": {
      "image/png": "[encoded data removed]",
      "text/plain": [
       "<Figure size 1080x720 with 1 Axes>"
      ]
     },
     "metadata": {},
     "output_type": "display_data"
    },
    {
     "data": {
      "image/png": "[encoded data removed]",
      "text/plain": [
       "<Figure size 1080x720 with 1 Axes>"
      ]
     },
     "metadata": {},
     "output_type": "display_data"
    }
   ],
   "source": [
    "for i in categorical_columns[1:]: \n",
    "    plt.figure(figsize=(15,10))\n",
    "    plt.subplot(3,2,1)\n",
    "    sns.countplot(x=i ,hue='Loan_Status', data=train_df, palette='ocean')\n",
    "    plt.xlabel(i, fontsize=14)"
   ]
  },
  {
   "cell_type": "code",
   "execution_count": 38,
   "id": "797ffbd9",
   "metadata": {},
   "outputs": [],
   "source": [
    "## Data Visualisation\n",
    "# Numerical values \n",
    "num = train_df.select_dtypes('number').columns.to_list()\n",
    "\n",
    "#Categorical values \n",
    "cat = train_df.select_dtypes('object').columns.to_list()\n",
    "\n",
    "#Dataset \n",
    "loan_num = train_df[num]\n",
    "loan_cat = train_df[cat]"
   ]
  },
  {
   "cell_type": "code",
   "execution_count": 39,
   "id": "1c54eb6f",
   "metadata": {},
   "outputs": [
    {
     "name": "stdout",
     "output_type": "stream",
     "text": [
      "Y    422\n",
      "N    192\n",
      "Name: Loan_Status, dtype: int64\n"
     ]
    },
    {
     "data": {
      "image/png": "[encoded data removed]",
      "text/plain": [
       "<Figure size 432x288 with 1 Axes>"
      ]
     },
     "metadata": {},
     "output_type": "display_data"
    }
   ],
   "source": [
    "## Lets plot the Loan_Status columns first to know the propotion of accepted proposals and rejected ones \n",
    "\n",
    "print(train_df[cat[-1]].value_counts())\n",
    "\n",
    "sns.set(style=\"whitegrid\")\n",
    "sns.countplot(x=train_df[cat[-1]])\n",
    "\n",
    "\n",
    "plt.show()"
   ]
  },
  {
   "cell_type": "code",
   "execution_count": 40,
   "id": "90032211",
   "metadata": {},
   "outputs": [
    {
     "data": {
      "image/png": "[encoded data removed]",
      "text/plain": [
       "<Figure size 432x288 with 1 Axes>"
      ]
     },
     "metadata": {},
     "output_type": "display_data"
    },
    {
     "data": {
      "image/png": "[encoded data removed]",
      "text/plain": [
       "<Figure size 432x288 with 1 Axes>"
      ]
     },
     "metadata": {},
     "output_type": "display_data"
    },
    {
     "data": {
      "image/png": "[encoded data removed]",
      "text/plain": [
       "<Figure size 432x288 with 1 Axes>"
      ]
     },
     "metadata": {},
     "output_type": "display_data"
    },
    {
     "data": {
      "image/png": "[encoded data removed]",
      "text/plain": [
       "<Figure size 432x288 with 1 Axes>"
      ]
     },
     "metadata": {},
     "output_type": "display_data"
    },
    {
     "data": {
      "image/png": "[encoded data removed]",
      "text/plain": [
       "<Figure size 432x288 with 1 Axes>"
      ]
     },
     "metadata": {},
     "output_type": "display_data"
    }
   ],
   "source": [
    "for i in loan_num:\n",
    "    plt.hist(loan_num[i])\n",
    "    plt.title(i)\n",
    "    plt.show()"
   ]
  },
  {
   "cell_type": "code",
   "execution_count": 41,
   "id": "857f9d2d",
   "metadata": {},
   "outputs": [
    {
     "data": {
      "image/png": "[encoded data removed]",
      "text/plain": [
       "<Figure size 1080x720 with 1 Axes>"
      ]
     },
     "metadata": {},
     "output_type": "display_data"
    },
    {
     "data": {
      "image/png": "[encoded data removed]",
      "text/plain": [
       "<Figure size 1080x720 with 1 Axes>"
      ]
     },
     "metadata": {},
     "output_type": "display_data"
    },
    {
     "data": {
      "image/png": "[encoded data removed]",
      "text/plain": [
       "<Figure size 1080x720 with 1 Axes>"
      ]
     },
     "metadata": {},
     "output_type": "display_data"
    },
    {
     "data": {
      "image/png": "[encoded data removed]",
      "text/plain": [
       "<Figure size 1080x720 with 1 Axes>"
      ]
     },
     "metadata": {},
     "output_type": "display_data"
    },
    {
     "data": {
      "image/png": "[encoded data removed]",
      "text/plain": [
       "<Figure size 1080x720 with 1 Axes>"
      ]
     },
     "metadata": {},
     "output_type": "display_data"
    },
    {
     "data": {
      "image/png": "[encoded data removed]",
      "text/plain": [
       "<Figure size 1080x720 with 1 Axes>"
      ]
     },
     "metadata": {},
     "output_type": "display_data"
    }
   ],
   "source": [
    "## Categorical Value Plots\n",
    "for i in cat[:-1]: \n",
    "    plt.figure(figsize=(15,10))\n",
    "    plt.subplot(2,3,1)\n",
    "    sns.countplot(x=i ,hue='Loan_Status', data=train_df ,palette='plasma')\n",
    "    plt.xlabel(i, fontsize=14)"
   ]
  },
  {
   "cell_type": "markdown",
   "id": "ddf2b09c",
   "metadata": {},
   "source": [
    "# Encoding Category values to Numeric values"
   ]
  },
  {
   "cell_type": "code",
   "execution_count": 42,
   "id": "f992c370",
   "metadata": {},
   "outputs": [
    {
     "data": {
      "text/plain": [
       "Gender                object\n",
       "Married               object\n",
       "Dependents            object\n",
       "Education             object\n",
       "Self_Employed         object\n",
       "ApplicantIncome        int64\n",
       "CoapplicantIncome    float64\n",
       "LoanAmount           float64\n",
       "Loan_Amount_Term     float64\n",
       "Credit_History       float64\n",
       "Property_Area         object\n",
       "Loan_Status           object\n",
       "dtype: object"
      ]
     },
     "execution_count": 42,
     "metadata": {},
     "output_type": "execute_result"
    }
   ],
   "source": [
    "# Looking at datatypes\n",
    "train_df.dtypes"
   ]
  },
  {
   "cell_type": "code",
   "execution_count": 43,
   "id": "0d01c401",
   "metadata": {},
   "outputs": [
    {
     "name": "stdout",
     "output_type": "stream",
     "text": [
      "<class 'pandas.core.frame.DataFrame'>\n",
      "RangeIndex: 614 entries, 0 to 613\n",
      "Data columns (total 12 columns):\n",
      " #   Column             Non-Null Count  Dtype  \n",
      "---  ------             --------------  -----  \n",
      " 0   Gender             614 non-null    int64  \n",
      " 1   Married            614 non-null    int64  \n",
      " 2   Education          614 non-null    int64  \n",
      " 3   Self_Employed      614 non-null    int64  \n",
      " 4   ApplicantIncome    614 non-null    int64  \n",
      " 5   CoapplicantIncome  614 non-null    float64\n",
      " 6   LoanAmount         614 non-null    float64\n",
      " 7   Loan_Amount_Term   614 non-null    float64\n",
      " 8   Credit_History     614 non-null    float64\n",
      " 9   Property_Area      614 non-null    int64  \n",
      " 10  Loan_Status        614 non-null    int64  \n",
      " 11  Dependents         614 non-null    int64  \n",
      "dtypes: float64(4), int64(8)\n",
      "memory usage: 57.7 KB\n",
      "<class 'pandas.core.frame.DataFrame'>\n",
      "RangeIndex: 367 entries, 0 to 366\n",
      "Data columns (total 11 columns):\n",
      " #   Column             Non-Null Count  Dtype  \n",
      "---  ------             --------------  -----  \n",
      " 0   Gender             356 non-null    float64\n",
      " 1   Married            367 non-null    int64  \n",
      " 2   Education          367 non-null    int64  \n",
      " 3   Self_Employed      344 non-null    float64\n",
      " 4   ApplicantIncome    367 non-null    int64  \n",
      " 5   CoapplicantIncome  367 non-null    int64  \n",
      " 6   LoanAmount         362 non-null    float64\n",
      " 7   Loan_Amount_Term   361 non-null    float64\n",
      " 8   Credit_History     338 non-null    float64\n",
      " 9   Property_Area      367 non-null    int64  \n",
      " 10  Dependents         357 non-null    float64\n",
      "dtypes: float64(6), int64(5)\n",
      "memory usage: 31.7 KB\n",
      "None \n",
      "\n",
      " None\n"
     ]
    }
   ],
   "source": [
    "# Categorical labels\n",
    "\n",
    "to_numeric = {'Male': 1, 'Female': 2,\n",
    "'Yes': 1, 'No': 2,\n",
    "'Graduate': 1, 'Not Graduate': 2,\n",
    "'Urban': 3, 'Semiurban': 2,'Rural': 1,\n",
    "'Y': 1, 'N': 0,\n",
    "'3+': 3}\n",
    "\n",
    "# adding the new numeric values from the to_numeric variable to both datasets\n",
    "train_df = train_df.applymap(lambda lable: to_numeric.get(lable) if lable in to_numeric else lable)\n",
    "test_df = test_df.applymap(lambda lable: to_numeric.get(lable) if lable in to_numeric else lable)\n",
    "\n",
    "\n",
    "# converting the Dependents column\n",
    "Dependents_ = pd.to_numeric(train_df.Dependents)\n",
    "Dependents__ = pd.to_numeric(test_df.Dependents)\n",
    "\n",
    "# Droping previous dependent columns\n",
    "train_df.drop(['Dependents'], axis = 1, inplace = True)\n",
    "test_df.drop(['Dependents'], axis = 1, inplace = True)\n",
    "\n",
    "# Concating new Dependents column with datasets\n",
    "\n",
    "train_df = pd.concat([train_df, Dependents_], axis = 1)\n",
    "test_df = pd.concat([test_df, Dependents__], axis = 1)\n",
    "\n",
    "\n",
    "# Checking info of both datasets\n",
    "print(train_df.info(), \"\\n\\n\", test_df.info())"
   ]
  },
  {
   "cell_type": "markdown",
   "id": "f8c97710",
   "metadata": {},
   "source": [
    "# Correlation Matrix"
   ]
  },
  {
   "cell_type": "code",
   "execution_count": 44,
   "id": "2bc732f7",
   "metadata": {},
   "outputs": [
    {
     "data": {
      "text/plain": [
       "<AxesSubplot:>"
      ]
     },
     "execution_count": 44,
     "metadata": {},
     "output_type": "execute_result"
    },
    {
     "data": {
      "image/png": "[encoded data removed]",
      "text/plain": [
       "<Figure size 432x288 with 2 Axes>"
      ]
     },
     "metadata": {},
     "output_type": "display_data"
    }
   ],
   "source": [
    "# Ploting the correaltion matrix\n",
    "sns.heatmap(train_df.corr() ,cmap='cubehelix_r')"
   ]
  },
  {
   "cell_type": "code",
   "execution_count": 45,
   "id": "d5f31fea",
   "metadata": {},
   "outputs": [
    {
     "data": {
      "text/html": [
       "<style type=\"text/css\">\n",
       "#T_8e695_row0_col0, #T_8e695_row1_col1, #T_8e695_row2_col2, #T_8e695_row3_col3, #T_8e695_row4_col4, #T_8e695_row5_col5, #T_8e695_row6_col6, #T_8e695_row7_col7, #T_8e695_row8_col8, #T_8e695_row9_col9, #T_8e695_row10_col10, #T_8e695_row11_col11 {\n",
       "  background-color: #b40426;\n",
       "  color: #f1f1f1;\n",
       "}\n",
       "#T_8e695_row0_col1 {\n",
       "  background-color: #e3d9d3;\n",
       "  color: #000000;\n",
       "}\n",
       "#T_8e695_row0_col2, #T_8e695_row2_col0, #T_8e695_row8_col4 {\n",
       "  background-color: #5b7ae5;\n",
       "  color: #f1f1f1;\n",
       "}\n",
       "#T_8e695_row0_col3, #T_8e695_row9_col10 {\n",
       "  background-color: #5d7ce6;\n",
       "  color: #f1f1f1;\n",
       "}\n",
       "#T_8e695_row0_col4, #T_8e695_row8_col9, #T_8e695_row9_col8, #T_8e695_row10_col2, #T_8e695_row10_col7, #T_8e695_row11_col9 {\n",
       "  background-color: #506bda;\n",
       "  color: #f1f1f1;\n",
       "}\n",
       "#T_8e695_row0_col5, #T_8e695_row5_col10, #T_8e695_row11_col8 {\n",
       "  background-color: #4358cb;\n",
       "  color: #f1f1f1;\n",
       "}\n",
       "#T_8e695_row0_col6, #T_8e695_row4_col7, #T_8e695_row4_col8, #T_8e695_row6_col10, #T_8e695_row7_col5, #T_8e695_row10_col5 {\n",
       "  background-color: #4a63d3;\n",
       "  color: #f1f1f1;\n",
       "}\n",
       "#T_8e695_row0_col7 {\n",
       "  background-color: #6e90f2;\n",
       "  color: #f1f1f1;\n",
       "}\n",
       "#T_8e695_row0_col8, #T_8e695_row4_col9, #T_8e695_row11_col3 {\n",
       "  background-color: #4c66d6;\n",
       "  color: #f1f1f1;\n",
       "}\n",
       "#T_8e695_row0_col9, #T_8e695_row4_col0 {\n",
       "  background-color: #5875e1;\n",
       "  color: #f1f1f1;\n",
       "}\n",
       "#T_8e695_row0_col10, #T_8e695_row1_col9, #T_8e695_row3_col8, #T_8e695_row6_col8 {\n",
       "  background-color: #4f69d9;\n",
       "  color: #f1f1f1;\n",
       "}\n",
       "#T_8e695_row0_col11, #T_8e695_row3_col5, #T_8e695_row10_col4, #T_8e695_row10_col6 {\n",
       "  background-color: #5f7fe8;\n",
       "  color: #f1f1f1;\n",
       "}\n",
       "#T_8e695_row1_col0 {\n",
       "  background-color: #d2dbe8;\n",
       "  color: #000000;\n",
       "}\n",
       "#T_8e695_row1_col2 {\n",
       "  background-color: #6485ec;\n",
       "  color: #f1f1f1;\n",
       "}\n",
       "#T_8e695_row1_col3, #T_8e695_row8_col3, #T_8e695_row8_col5, #T_8e695_row9_col4, #T_8e695_row9_col5, #T_8e695_row10_col3 {\n",
       "  background-color: #5e7de7;\n",
       "  color: #f1f1f1;\n",
       "}\n",
       "#T_8e695_row1_col4, #T_8e695_row5_col0 {\n",
       "  background-color: #516ddb;\n",
       "  color: #f1f1f1;\n",
       "}\n",
       "#T_8e695_row1_col5 {\n",
       "  background-color: #455cce;\n",
       "  color: #f1f1f1;\n",
       "}\n",
       "#T_8e695_row1_col6, #T_8e695_row5_col4 {\n",
       "  background-color: #4055c8;\n",
       "  color: #f1f1f1;\n",
       "}\n",
       "#T_8e695_row1_col7 {\n",
       "  background-color: #7699f6;\n",
       "  color: #f1f1f1;\n",
       "}\n",
       "#T_8e695_row1_col8, #T_8e695_row6_col0 {\n",
       "  background-color: #4b64d5;\n",
       "  color: #f1f1f1;\n",
       "}\n",
       "#T_8e695_row1_col10, #T_8e695_row1_col11, #T_8e695_row2_col4, #T_8e695_row2_col6, #T_8e695_row2_col8, #T_8e695_row4_col3, #T_8e695_row4_col5, #T_8e695_row6_col2, #T_8e695_row7_col9, #T_8e695_row11_col0, #T_8e695_row11_col1, #T_8e695_row11_col7 {\n",
       "  background-color: #3b4cc0;\n",
       "  color: #f1f1f1;\n",
       "}\n",
       "#T_8e695_row2_col1 {\n",
       "  background-color: #89acfd;\n",
       "  color: #000000;\n",
       "}\n",
       "#T_8e695_row2_col3, #T_8e695_row3_col7 {\n",
       "  background-color: #6180e9;\n",
       "  color: #f1f1f1;\n",
       "}\n",
       "#T_8e695_row2_col5 {\n",
       "  background-color: #4961d2;\n",
       "  color: #f1f1f1;\n",
       "}\n",
       "#T_8e695_row2_col7, #T_8e695_row4_col2, #T_8e695_row6_col9, #T_8e695_row9_col7 {\n",
       "  background-color: #4257c9;\n",
       "  color: #f1f1f1;\n",
       "}\n",
       "#T_8e695_row2_col9, #T_8e695_row6_col3 {\n",
       "  background-color: #3d50c3;\n",
       "  color: #f1f1f1;\n",
       "}\n",
       "#T_8e695_row2_col10 {\n",
       "  background-color: #3c4ec2;\n",
       "  color: #f1f1f1;\n",
       "}\n",
       "#T_8e695_row2_col11 {\n",
       "  background-color: #9bbcff;\n",
       "  color: #000000;\n",
       "}\n",
       "#T_8e695_row3_col0, #T_8e695_row8_col6 {\n",
       "  background-color: #688aef;\n",
       "  color: #f1f1f1;\n",
       "}\n",
       "#T_8e695_row3_col1, #T_8e695_row9_col11 {\n",
       "  background-color: #8db0fe;\n",
       "  color: #000000;\n",
       "}\n",
       "#T_8e695_row3_col2 {\n",
       "  background-color: #6b8df0;\n",
       "  color: #f1f1f1;\n",
       "}\n",
       "#T_8e695_row3_col4 {\n",
       "  background-color: #3e51c5;\n",
       "  color: #f1f1f1;\n",
       "}\n",
       "#T_8e695_row3_col6 {\n",
       "  background-color: #485fd1;\n",
       "  color: #f1f1f1;\n",
       "}\n",
       "#T_8e695_row3_col9, #T_8e695_row10_col9 {\n",
       "  background-color: #5977e3;\n",
       "  color: #f1f1f1;\n",
       "}\n",
       "#T_8e695_row3_col10, #T_8e695_row8_col7, #T_8e695_row9_col2 {\n",
       "  background-color: #5572df;\n",
       "  color: #f1f1f1;\n",
       "}\n",
       "#T_8e695_row3_col11, #T_8e695_row7_col0 {\n",
       "  background-color: #7ea1fa;\n",
       "  color: #f1f1f1;\n",
       "}\n",
       "#T_8e695_row4_col1 {\n",
       "  background-color: #80a3fa;\n",
       "  color: #f1f1f1;\n",
       "}\n",
       "#T_8e695_row4_col6 {\n",
       "  background-color: #f5c4ac;\n",
       "  color: #000000;\n",
       "}\n",
       "#T_8e695_row4_col10, #T_8e695_row5_col8, #T_8e695_row5_col9, #T_8e695_row7_col2, #T_8e695_row8_col2 {\n",
       "  background-color: #536edd;\n",
       "  color: #f1f1f1;\n",
       "}\n",
       "#T_8e695_row4_col11 {\n",
       "  background-color: #abc8fd;\n",
       "  color: #000000;\n",
       "}\n",
       "#T_8e695_row5_col1, #T_8e695_row11_col2 {\n",
       "  background-color: #799cf8;\n",
       "  color: #f1f1f1;\n",
       "}\n",
       "#T_8e695_row5_col2, #T_8e695_row11_col10 {\n",
       "  background-color: #5673e0;\n",
       "  color: #f1f1f1;\n",
       "}\n",
       "#T_8e695_row5_col3, #T_8e695_row6_col7 {\n",
       "  background-color: #6282ea;\n",
       "  color: #f1f1f1;\n",
       "}\n",
       "#T_8e695_row5_col6 {\n",
       "  background-color: #a1c0ff;\n",
       "  color: #000000;\n",
       "}\n",
       "#T_8e695_row5_col7 {\n",
       "  background-color: #465ecf;\n",
       "  color: #f1f1f1;\n",
       "}\n",
       "#T_8e695_row5_col11 {\n",
       "  background-color: #94b6ff;\n",
       "  color: #000000;\n",
       "}\n",
       "#T_8e695_row6_col1, #T_8e695_row7_col3 {\n",
       "  background-color: #6788ee;\n",
       "  color: #f1f1f1;\n",
       "}\n",
       "#T_8e695_row6_col4 {\n",
       "  background-color: #f4c6af;\n",
       "  color: #000000;\n",
       "}\n",
       "#T_8e695_row6_col5 {\n",
       "  background-color: #96b7ff;\n",
       "  color: #000000;\n",
       "}\n",
       "#T_8e695_row6_col11 {\n",
       "  background-color: #b7cff9;\n",
       "  color: #000000;\n",
       "}\n",
       "#T_8e695_row7_col1 {\n",
       "  background-color: #a7c5fe;\n",
       "  color: #000000;\n",
       "}\n",
       "#T_8e695_row7_col4 {\n",
       "  background-color: #5470de;\n",
       "  color: #f1f1f1;\n",
       "}\n",
       "#T_8e695_row7_col6 {\n",
       "  background-color: #7396f5;\n",
       "  color: #f1f1f1;\n",
       "}\n",
       "#T_8e695_row7_col8, #T_8e695_row7_col10 {\n",
       "  background-color: #4e68d8;\n",
       "  color: #f1f1f1;\n",
       "}\n",
       "#T_8e695_row7_col11 {\n",
       "  background-color: #7295f4;\n",
       "  color: #f1f1f1;\n",
       "}\n",
       "#T_8e695_row8_col0, #T_8e695_row9_col3 {\n",
       "  background-color: #6687ed;\n",
       "  color: #f1f1f1;\n",
       "}\n",
       "#T_8e695_row8_col1 {\n",
       "  background-color: #8badfd;\n",
       "  color: #000000;\n",
       "}\n",
       "#T_8e695_row8_col10 {\n",
       "  background-color: #efcfbf;\n",
       "  color: #000000;\n",
       "}\n",
       "#T_8e695_row8_col11 {\n",
       "  background-color: #82a6fb;\n",
       "  color: #f1f1f1;\n",
       "}\n",
       "#T_8e695_row9_col0 {\n",
       "  background-color: #7093f3;\n",
       "  color: #f1f1f1;\n",
       "}\n",
       "#T_8e695_row9_col1 {\n",
       "  background-color: #8caffe;\n",
       "  color: #000000;\n",
       "}\n",
       "#T_8e695_row9_col6 {\n",
       "  background-color: #5a78e4;\n",
       "  color: #f1f1f1;\n",
       "}\n",
       "#T_8e695_row10_col0, #T_8e695_row11_col5 {\n",
       "  background-color: #6384eb;\n",
       "  color: #f1f1f1;\n",
       "}\n",
       "#T_8e695_row10_col1 {\n",
       "  background-color: #7597f6;\n",
       "  color: #f1f1f1;\n",
       "}\n",
       "#T_8e695_row10_col8 {\n",
       "  background-color: #edd1c2;\n",
       "  color: #000000;\n",
       "}\n",
       "#T_8e695_row10_col11 {\n",
       "  background-color: #90b2fe;\n",
       "  color: #000000;\n",
       "}\n",
       "#T_8e695_row11_col4 {\n",
       "  background-color: #85a8fc;\n",
       "  color: #f1f1f1;\n",
       "}\n",
       "#T_8e695_row11_col6 {\n",
       "  background-color: #98b9ff;\n",
       "  color: #000000;\n",
       "}\n",
       "</style>\n",
       "<table id=\"T_8e695_\">\n",
       "  <thead>\n",
       "    <tr>\n",
       "      <th class=\"blank level0\" >&nbsp;</th>\n",
       "      <th class=\"col_heading level0 col0\" >Gender</th>\n",
       "      <th class=\"col_heading level0 col1\" >Married</th>\n",
       "      <th class=\"col_heading level0 col2\" >Education</th>\n",
       "      <th class=\"col_heading level0 col3\" >Self_Employed</th>\n",
       "      <th class=\"col_heading level0 col4\" >ApplicantIncome</th>\n",
       "      <th class=\"col_heading level0 col5\" >CoapplicantIncome</th>\n",
       "      <th class=\"col_heading level0 col6\" >LoanAmount</th>\n",
       "      <th class=\"col_heading level0 col7\" >Loan_Amount_Term</th>\n",
       "      <th class=\"col_heading level0 col8\" >Credit_History</th>\n",
       "      <th class=\"col_heading level0 col9\" >Property_Area</th>\n",
       "      <th class=\"col_heading level0 col10\" >Loan_Status</th>\n",
       "      <th class=\"col_heading level0 col11\" >Dependents</th>\n",
       "    </tr>\n",
       "  </thead>\n",
       "  <tbody>\n",
       "    <tr>\n",
       "      <th id=\"T_8e695_level0_row0\" class=\"row_heading level0 row0\" >Gender</th>\n",
       "      <td id=\"T_8e695_row0_col0\" class=\"data row0 col0\" >1.000000</td>\n",
       "      <td id=\"T_8e695_row0_col1\" class=\"data row0 col1\" >0.364569</td>\n",
       "      <td id=\"T_8e695_row0_col2\" class=\"data row0 col2\" >-0.045364</td>\n",
       "      <td id=\"T_8e695_row0_col3\" class=\"data row0 col3\" >-0.000525</td>\n",
       "      <td id=\"T_8e695_row0_col4\" class=\"data row0 col4\" >-0.058809</td>\n",
       "      <td id=\"T_8e695_row0_col5\" class=\"data row0 col5\" >-0.082912</td>\n",
       "      <td id=\"T_8e695_row0_col6\" class=\"data row0 col6\" >-0.106404</td>\n",
       "      <td id=\"T_8e695_row0_col7\" class=\"data row0 col7\" >0.074030</td>\n",
       "      <td id=\"T_8e695_row0_col8\" class=\"data row0 col8\" >-0.009170</td>\n",
       "      <td id=\"T_8e695_row0_col9\" class=\"data row0 col9\" >0.025752</td>\n",
       "      <td id=\"T_8e695_row0_col10\" class=\"data row0 col10\" >-0.017987</td>\n",
       "      <td id=\"T_8e695_row0_col11\" class=\"data row0 col11\" >-0.172914</td>\n",
       "    </tr>\n",
       "    <tr>\n",
       "      <th id=\"T_8e695_level0_row1\" class=\"row_heading level0 row1\" >Married</th>\n",
       "      <td id=\"T_8e695_row1_col0\" class=\"data row1 col0\" >0.364569</td>\n",
       "      <td id=\"T_8e695_row1_col1\" class=\"data row1 col1\" >1.000000</td>\n",
       "      <td id=\"T_8e695_row1_col2\" class=\"data row1 col2\" >-0.012304</td>\n",
       "      <td id=\"T_8e695_row1_col3\" class=\"data row1 col3\" >0.004489</td>\n",
       "      <td id=\"T_8e695_row1_col4\" class=\"data row1 col4\" >-0.051708</td>\n",
       "      <td id=\"T_8e695_row1_col5\" class=\"data row1 col5\" >-0.075948</td>\n",
       "      <td id=\"T_8e695_row1_col6\" class=\"data row1 col6\" >-0.146212</td>\n",
       "      <td id=\"T_8e695_row1_col7\" class=\"data row1 col7\" >0.100912</td>\n",
       "      <td id=\"T_8e695_row1_col8\" class=\"data row1 col8\" >-0.010938</td>\n",
       "      <td id=\"T_8e695_row1_col9\" class=\"data row1 col9\" >-0.004257</td>\n",
       "      <td id=\"T_8e695_row1_col10\" class=\"data row1 col10\" >-0.091478</td>\n",
       "      <td id=\"T_8e695_row1_col11\" class=\"data row1 col11\" >-0.334216</td>\n",
       "    </tr>\n",
       "    <tr>\n",
       "      <th id=\"T_8e695_level0_row2\" class=\"row_heading level0 row2\" >Education</th>\n",
       "      <td id=\"T_8e695_row2_col0\" class=\"data row2 col0\" >-0.045364</td>\n",
       "      <td id=\"T_8e695_row2_col1\" class=\"data row2 col1\" >-0.012304</td>\n",
       "      <td id=\"T_8e695_row2_col2\" class=\"data row2 col2\" >1.000000</td>\n",
       "      <td id=\"T_8e695_row2_col3\" class=\"data row2 col3\" >0.010383</td>\n",
       "      <td id=\"T_8e695_row2_col4\" class=\"data row2 col4\" >-0.140760</td>\n",
       "      <td id=\"T_8e695_row2_col5\" class=\"data row2 col5\" >-0.062290</td>\n",
       "      <td id=\"T_8e695_row2_col6\" class=\"data row2 col6\" >-0.169436</td>\n",
       "      <td id=\"T_8e695_row2_col7\" class=\"data row2 col7\" >-0.073928</td>\n",
       "      <td id=\"T_8e695_row2_col8\" class=\"data row2 col8\" >-0.073658</td>\n",
       "      <td id=\"T_8e695_row2_col9\" class=\"data row2 col9\" >-0.065243</td>\n",
       "      <td id=\"T_8e695_row2_col10\" class=\"data row2 col10\" >-0.085884</td>\n",
       "      <td id=\"T_8e695_row2_col11\" class=\"data row2 col11\" >0.055752</td>\n",
       "    </tr>\n",
       "    <tr>\n",
       "      <th id=\"T_8e695_level0_row3\" class=\"row_heading level0 row3\" >Self_Employed</th>\n",
       "      <td id=\"T_8e695_row3_col0\" class=\"data row3 col0\" >-0.000525</td>\n",
       "      <td id=\"T_8e695_row3_col1\" class=\"data row3 col1\" >0.004489</td>\n",
       "      <td id=\"T_8e695_row3_col2\" class=\"data row3 col2\" >0.010383</td>\n",
       "      <td id=\"T_8e695_row3_col3\" class=\"data row3 col3\" >1.000000</td>\n",
       "      <td id=\"T_8e695_row3_col4\" class=\"data row3 col4\" >-0.127180</td>\n",
       "      <td id=\"T_8e695_row3_col5\" class=\"data row3 col5\" >0.016100</td>\n",
       "      <td id=\"T_8e695_row3_col6\" class=\"data row3 col6\" >-0.114971</td>\n",
       "      <td id=\"T_8e695_row3_col7\" class=\"data row3 col7\" >0.033739</td>\n",
       "      <td id=\"T_8e695_row3_col8\" class=\"data row3 col8\" >0.001550</td>\n",
       "      <td id=\"T_8e695_row3_col9\" class=\"data row3 col9\" >0.030860</td>\n",
       "      <td id=\"T_8e695_row3_col10\" class=\"data row3 col10\" >0.003700</td>\n",
       "      <td id=\"T_8e695_row3_col11\" class=\"data row3 col11\" >-0.056798</td>\n",
       "    </tr>\n",
       "    <tr>\n",
       "      <th id=\"T_8e695_level0_row4\" class=\"row_heading level0 row4\" >ApplicantIncome</th>\n",
       "      <td id=\"T_8e695_row4_col0\" class=\"data row4 col0\" >-0.058809</td>\n",
       "      <td id=\"T_8e695_row4_col1\" class=\"data row4 col1\" >-0.051708</td>\n",
       "      <td id=\"T_8e695_row4_col2\" class=\"data row4 col2\" >-0.140760</td>\n",
       "      <td id=\"T_8e695_row4_col3\" class=\"data row4 col3\" >-0.127180</td>\n",
       "      <td id=\"T_8e695_row4_col4\" class=\"data row4 col4\" >1.000000</td>\n",
       "      <td id=\"T_8e695_row4_col5\" class=\"data row4 col5\" >-0.116605</td>\n",
       "      <td id=\"T_8e695_row4_col6\" class=\"data row4 col6\" >0.564698</td>\n",
       "      <td id=\"T_8e695_row4_col7\" class=\"data row4 col7\" >-0.046531</td>\n",
       "      <td id=\"T_8e695_row4_col8\" class=\"data row4 col8\" >-0.018615</td>\n",
       "      <td id=\"T_8e695_row4_col9\" class=\"data row4 col9\" >-0.009500</td>\n",
       "      <td id=\"T_8e695_row4_col10\" class=\"data row4 col10\" >-0.004710</td>\n",
       "      <td id=\"T_8e695_row4_col11\" class=\"data row4 col11\" >0.118202</td>\n",
       "    </tr>\n",
       "    <tr>\n",
       "      <th id=\"T_8e695_level0_row5\" class=\"row_heading level0 row5\" >CoapplicantIncome</th>\n",
       "      <td id=\"T_8e695_row5_col0\" class=\"data row5 col0\" >-0.082912</td>\n",
       "      <td id=\"T_8e695_row5_col1\" class=\"data row5 col1\" >-0.075948</td>\n",
       "      <td id=\"T_8e695_row5_col2\" class=\"data row5 col2\" >-0.062290</td>\n",
       "      <td id=\"T_8e695_row5_col3\" class=\"data row5 col3\" >0.016100</td>\n",
       "      <td id=\"T_8e695_row5_col4\" class=\"data row5 col4\" >-0.116605</td>\n",
       "      <td id=\"T_8e695_row5_col5\" class=\"data row5 col5\" >1.000000</td>\n",
       "      <td id=\"T_8e695_row5_col6\" class=\"data row5 col6\" >0.189723</td>\n",
       "      <td id=\"T_8e695_row5_col7\" class=\"data row5 col7\" >-0.059383</td>\n",
       "      <td id=\"T_8e695_row5_col8\" class=\"data row5 col8\" >0.011134</td>\n",
       "      <td id=\"T_8e695_row5_col9\" class=\"data row5 col9\" >0.010522</td>\n",
       "      <td id=\"T_8e695_row5_col10\" class=\"data row5 col10\" >-0.059187</td>\n",
       "      <td id=\"T_8e695_row5_col11\" class=\"data row5 col11\" >0.030430</td>\n",
       "    </tr>\n",
       "    <tr>\n",
       "      <th id=\"T_8e695_level0_row6\" class=\"row_heading level0 row6\" >LoanAmount</th>\n",
       "      <td id=\"T_8e695_row6_col0\" class=\"data row6 col0\" >-0.106404</td>\n",
       "      <td id=\"T_8e695_row6_col1\" class=\"data row6 col1\" >-0.146212</td>\n",
       "      <td id=\"T_8e695_row6_col2\" class=\"data row6 col2\" >-0.169436</td>\n",
       "      <td id=\"T_8e695_row6_col3\" class=\"data row6 col3\" >-0.114971</td>\n",
       "      <td id=\"T_8e695_row6_col4\" class=\"data row6 col4\" >0.564698</td>\n",
       "      <td id=\"T_8e695_row6_col5\" class=\"data row6 col5\" >0.189723</td>\n",
       "      <td id=\"T_8e695_row6_col6\" class=\"data row6 col6\" >1.000000</td>\n",
       "      <td id=\"T_8e695_row6_col7\" class=\"data row6 col7\" >0.037152</td>\n",
       "      <td id=\"T_8e695_row6_col8\" class=\"data row6 col8\" >-0.000250</td>\n",
       "      <td id=\"T_8e695_row6_col9\" class=\"data row6 col9\" >-0.047414</td>\n",
       "      <td id=\"T_8e695_row6_col10\" class=\"data row6 col10\" >-0.031808</td>\n",
       "      <td id=\"T_8e695_row6_col11\" class=\"data row6 col11\" >0.163017</td>\n",
       "    </tr>\n",
       "    <tr>\n",
       "      <th id=\"T_8e695_level0_row7\" class=\"row_heading level0 row7\" >Loan_Amount_Term</th>\n",
       "      <td id=\"T_8e695_row7_col0\" class=\"data row7 col0\" >0.074030</td>\n",
       "      <td id=\"T_8e695_row7_col1\" class=\"data row7 col1\" >0.100912</td>\n",
       "      <td id=\"T_8e695_row7_col2\" class=\"data row7 col2\" >-0.073928</td>\n",
       "      <td id=\"T_8e695_row7_col3\" class=\"data row7 col3\" >0.033739</td>\n",
       "      <td id=\"T_8e695_row7_col4\" class=\"data row7 col4\" >-0.046531</td>\n",
       "      <td id=\"T_8e695_row7_col5\" class=\"data row7 col5\" >-0.059383</td>\n",
       "      <td id=\"T_8e695_row7_col6\" class=\"data row7 col6\" >0.037152</td>\n",
       "      <td id=\"T_8e695_row7_col7\" class=\"data row7 col7\" >1.000000</td>\n",
       "      <td id=\"T_8e695_row7_col8\" class=\"data row7 col8\" >-0.004705</td>\n",
       "      <td id=\"T_8e695_row7_col9\" class=\"data row7 col9\" >-0.076120</td>\n",
       "      <td id=\"T_8e695_row7_col10\" class=\"data row7 col10\" >-0.022549</td>\n",
       "      <td id=\"T_8e695_row7_col11\" class=\"data row7 col11\" >-0.103864</td>\n",
       "    </tr>\n",
       "    <tr>\n",
       "      <th id=\"T_8e695_level0_row8\" class=\"row_heading level0 row8\" >Credit_History</th>\n",
       "      <td id=\"T_8e695_row8_col0\" class=\"data row8 col0\" >-0.009170</td>\n",
       "      <td id=\"T_8e695_row8_col1\" class=\"data row8 col1\" >-0.010938</td>\n",
       "      <td id=\"T_8e695_row8_col2\" class=\"data row8 col2\" >-0.073658</td>\n",
       "      <td id=\"T_8e695_row8_col3\" class=\"data row8 col3\" >0.001550</td>\n",
       "      <td id=\"T_8e695_row8_col4\" class=\"data row8 col4\" >-0.018615</td>\n",
       "      <td id=\"T_8e695_row8_col5\" class=\"data row8 col5\" >0.011134</td>\n",
       "      <td id=\"T_8e695_row8_col6\" class=\"data row8 col6\" >-0.000250</td>\n",
       "      <td id=\"T_8e695_row8_col7\" class=\"data row8 col7\" >-0.004705</td>\n",
       "      <td id=\"T_8e695_row8_col8\" class=\"data row8 col8\" >1.000000</td>\n",
       "      <td id=\"T_8e695_row8_col9\" class=\"data row8 col9\" >0.001963</td>\n",
       "      <td id=\"T_8e695_row8_col10\" class=\"data row8 col10\" >0.540556</td>\n",
       "      <td id=\"T_8e695_row8_col11\" class=\"data row8 col11\" >-0.040160</td>\n",
       "    </tr>\n",
       "    <tr>\n",
       "      <th id=\"T_8e695_level0_row9\" class=\"row_heading level0 row9\" >Property_Area</th>\n",
       "      <td id=\"T_8e695_row9_col0\" class=\"data row9 col0\" >0.025752</td>\n",
       "      <td id=\"T_8e695_row9_col1\" class=\"data row9 col1\" >-0.004257</td>\n",
       "      <td id=\"T_8e695_row9_col2\" class=\"data row9 col2\" >-0.065243</td>\n",
       "      <td id=\"T_8e695_row9_col3\" class=\"data row9 col3\" >0.030860</td>\n",
       "      <td id=\"T_8e695_row9_col4\" class=\"data row9 col4\" >-0.009500</td>\n",
       "      <td id=\"T_8e695_row9_col5\" class=\"data row9 col5\" >0.010522</td>\n",
       "      <td id=\"T_8e695_row9_col6\" class=\"data row9 col6\" >-0.047414</td>\n",
       "      <td id=\"T_8e695_row9_col7\" class=\"data row9 col7\" >-0.076120</td>\n",
       "      <td id=\"T_8e695_row9_col8\" class=\"data row9 col8\" >0.001963</td>\n",
       "      <td id=\"T_8e695_row9_col9\" class=\"data row9 col9\" >1.000000</td>\n",
       "      <td id=\"T_8e695_row9_col10\" class=\"data row9 col10\" >0.032112</td>\n",
       "      <td id=\"T_8e695_row9_col11\" class=\"data row9 col11\" >-0.000244</td>\n",
       "    </tr>\n",
       "    <tr>\n",
       "      <th id=\"T_8e695_level0_row10\" class=\"row_heading level0 row10\" >Loan_Status</th>\n",
       "      <td id=\"T_8e695_row10_col0\" class=\"data row10 col0\" >-0.017987</td>\n",
       "      <td id=\"T_8e695_row10_col1\" class=\"data row10 col1\" >-0.091478</td>\n",
       "      <td id=\"T_8e695_row10_col2\" class=\"data row10 col2\" >-0.085884</td>\n",
       "      <td id=\"T_8e695_row10_col3\" class=\"data row10 col3\" >0.003700</td>\n",
       "      <td id=\"T_8e695_row10_col4\" class=\"data row10 col4\" >-0.004710</td>\n",
       "      <td id=\"T_8e695_row10_col5\" class=\"data row10 col5\" >-0.059187</td>\n",
       "      <td id=\"T_8e695_row10_col6\" class=\"data row10 col6\" >-0.031808</td>\n",
       "      <td id=\"T_8e695_row10_col7\" class=\"data row10 col7\" >-0.022549</td>\n",
       "      <td id=\"T_8e695_row10_col8\" class=\"data row10 col8\" >0.540556</td>\n",
       "      <td id=\"T_8e695_row10_col9\" class=\"data row10 col9\" >0.032112</td>\n",
       "      <td id=\"T_8e695_row10_col10\" class=\"data row10 col10\" >1.000000</td>\n",
       "      <td id=\"T_8e695_row10_col11\" class=\"data row10 col11\" >0.010118</td>\n",
       "    </tr>\n",
       "    <tr>\n",
       "      <th id=\"T_8e695_level0_row11\" class=\"row_heading level0 row11\" >Dependents</th>\n",
       "      <td id=\"T_8e695_row11_col0\" class=\"data row11 col0\" >-0.172914</td>\n",
       "      <td id=\"T_8e695_row11_col1\" class=\"data row11 col1\" >-0.334216</td>\n",
       "      <td id=\"T_8e695_row11_col2\" class=\"data row11 col2\" >0.055752</td>\n",
       "      <td id=\"T_8e695_row11_col3\" class=\"data row11 col3\" >-0.056798</td>\n",
       "      <td id=\"T_8e695_row11_col4\" class=\"data row11 col4\" >0.118202</td>\n",
       "      <td id=\"T_8e695_row11_col5\" class=\"data row11 col5\" >0.030430</td>\n",
       "      <td id=\"T_8e695_row11_col6\" class=\"data row11 col6\" >0.163017</td>\n",
       "      <td id=\"T_8e695_row11_col7\" class=\"data row11 col7\" >-0.103864</td>\n",
       "      <td id=\"T_8e695_row11_col8\" class=\"data row11 col8\" >-0.040160</td>\n",
       "      <td id=\"T_8e695_row11_col9\" class=\"data row11 col9\" >-0.000244</td>\n",
       "      <td id=\"T_8e695_row11_col10\" class=\"data row11 col10\" >0.010118</td>\n",
       "      <td id=\"T_8e695_row11_col11\" class=\"data row11 col11\" >1.000000</td>\n",
       "    </tr>\n",
       "  </tbody>\n",
       "</table>\n"
      ],
      "text/plain": [
       "<pandas.io.formats.style.Styler at 0x209f345b370>"
      ]
     },
     "execution_count": 45,
     "metadata": {},
     "output_type": "execute_result"
    }
   ],
   "source": [
    "# Correlation table for better view\n",
    "corr = train_df.corr()\n",
    "\n",
    "corr.style.background_gradient(cmap=\"coolwarm\")"
   ]
  },
  {
   "cell_type": "markdown",
   "id": "e6879d8f",
   "metadata": {},
   "source": [
    "# Conclusion from Correlation Matrix:¶\n",
    " From the above two correlation matrix. We can see that Credit_History has a positive correation of 0.540556. So we can conclude that the target value(Loan_Status) is more depent on Credit_History"
   ]
  },
  {
   "cell_type": "markdown",
   "id": "04ae1cb1",
   "metadata": {},
   "source": [
    "# Models we will use:\n",
    "    Decision Tree\n",
    "    Random Forest\n",
    "    XGBoost\n",
    "    Logistic Regression\n",
    "    SVM"
   ]
  },
  {
   "cell_type": "code",
   "execution_count": 46,
   "id": "d829ebb3",
   "metadata": {},
   "outputs": [],
   "source": [
    "# Spliting the dataset\n",
    "y = train_df['Loan_Status']\n",
    "X = train_df.drop('Loan_Status', axis=1)\n",
    "\n",
    "X_train, X_test, y_train, y_test = train_test_split(X,y,test_size=0.3, random_state=0)"
   ]
  },
  {
   "cell_type": "markdown",
   "id": "932e3979",
   "metadata": {},
   "source": [
    "# Decision Tree"
   ]
  },
  {
   "cell_type": "code",
   "execution_count": 47,
   "id": "b8559647",
   "metadata": {},
   "outputs": [
    {
     "name": "stdout",
     "output_type": "stream",
     "text": [
      "              precision    recall  f1-score   support\n",
      "\n",
      "           0       0.47      0.53      0.50        51\n",
      "           1       0.81      0.78      0.79       134\n",
      "\n",
      "    accuracy                           0.71       185\n",
      "   macro avg       0.64      0.65      0.65       185\n",
      "weighted avg       0.72      0.71      0.71       185\n",
      "\n",
      "70.81% Accurate\n"
     ]
    }
   ],
   "source": [
    "DT = DecisionTreeClassifier()\n",
    "DT.fit(X_train, y_train)\n",
    "\n",
    "# Predicting the values\n",
    "y_predict = DT.predict(X_test)\n",
    "\n",
    "\n",
    "## Printing the classification report\n",
    "print(classification_report(y_test,y_predict))\n",
    "\n",
    "## Accuracy Score \n",
    "DT_SC = accuracy_score(y_predict,y_test)\n",
    "print(f\"{round(DT_SC*100,2)}% Accurate\")\n",
    "\n",
    "\n",
    "## Results of the model\n",
    "Decision_Tree = pd.DataFrame({'y_test':y_test, 'prediction':y_predict})\n",
    "Decision_Tree.to_csv('Decision Tree.csv')"
   ]
  },
  {
   "cell_type": "markdown",
   "id": "5a422a75",
   "metadata": {},
   "source": [
    "# Random Forest Classifier"
   ]
  },
  {
   "cell_type": "code",
   "execution_count": 48,
   "id": "94dbc2b5",
   "metadata": {},
   "outputs": [
    {
     "name": "stdout",
     "output_type": "stream",
     "text": [
      "              precision    recall  f1-score   support\n",
      "\n",
      "           0       0.72      0.45      0.55        51\n",
      "           1       0.82      0.93      0.87       134\n",
      "\n",
      "    accuracy                           0.80       185\n",
      "   macro avg       0.77      0.69      0.71       185\n",
      "weighted avg       0.79      0.80      0.78       185\n",
      "\n",
      "80.0% Accurate\n"
     ]
    }
   ],
   "source": [
    "RF = RandomForestClassifier()\n",
    "RF.fit(X_train,y_train)\n",
    "\n",
    "# Prediciting the values\n",
    "y_predict = RF.predict(X_test)\n",
    "\n",
    "# Printing the classification report \n",
    "print(classification_report(y_test,y_predict))\n",
    "\n",
    "## Accuracy Score \n",
    "RF_SC = accuracy_score(y_predict,y_test)\n",
    "print(f\"{round(RF_SC*100,2)}% Accurate\")\n",
    "\n",
    "## Results of the model\n",
    "Random_Forest = pd.DataFrame({'y_test':y_test, 'prediction':y_predict})\n",
    "Random_Forest.to_csv('Random Forest.csv')"
   ]
  },
  {
   "cell_type": "markdown",
   "id": "947be5ec",
   "metadata": {},
   "source": [
    "# XGBoost"
   ]
  },
  {
   "cell_type": "code",
   "execution_count": 49,
   "id": "2d0b9b1f",
   "metadata": {},
   "outputs": [
    {
     "name": "stdout",
     "output_type": "stream",
     "text": [
      "              precision    recall  f1-score   support\n",
      "\n",
      "           0       0.65      0.55      0.60        51\n",
      "           1       0.84      0.89      0.86       134\n",
      "\n",
      "    accuracy                           0.79       185\n",
      "   macro avg       0.74      0.72      0.73       185\n",
      "weighted avg       0.79      0.79      0.79       185\n",
      "\n",
      "79.46% Accurate\n"
     ]
    }
   ],
   "source": [
    "XGB = XGBClassifier()\n",
    "XGB.fit(X_train, y_train)\n",
    "\n",
    "# Predicting the values\n",
    "y_predict = XGB.predict(X_test)\n",
    "\n",
    "\n",
    "## Printing the classification report\n",
    "print(classification_report(y_test,y_predict))\n",
    "\n",
    "## Accuracy Score \n",
    "XGB_SC = accuracy_score(y_predict,y_test)\n",
    "print(f\"{round(XGB_SC*100,2)}% Accurate\")\n",
    "\n",
    "## Results of the model\n",
    "XGBoost = pd.DataFrame({'y_test':y_test, 'prediction':y_predict})\n",
    "XGBoost.to_csv('XGBoost.csv')"
   ]
  },
  {
   "cell_type": "markdown",
   "id": "b93bba91",
   "metadata": {},
   "source": [
    "# Logistic Regression"
   ]
  },
  {
   "cell_type": "code",
   "execution_count": 50,
   "id": "1a951a3d",
   "metadata": {},
   "outputs": [
    {
     "name": "stdout",
     "output_type": "stream",
     "text": [
      "              precision    recall  f1-score   support\n",
      "\n",
      "           0       0.92      0.43      0.59        51\n",
      "           1       0.82      0.99      0.89       134\n",
      "\n",
      "    accuracy                           0.83       185\n",
      "   macro avg       0.87      0.71      0.74       185\n",
      "weighted avg       0.85      0.83      0.81       185\n",
      "\n",
      "83.24% Accurate\n"
     ]
    },
    {
     "name": "stderr",
     "output_type": "stream",
     "text": [
      "C:\\Users\\Ramesh kumar\\anaconda1\\lib\\site-packages\\sklearn\\linear_model\\_logistic.py:814: ConvergenceWarning: lbfgs failed to converge (status=1):\n",
      "STOP: TOTAL NO. of ITERATIONS REACHED LIMIT.\n",
      "\n",
      "Increase the number of iterations (max_iter) or scale the data as shown in:\n",
      "    https://scikit-learn.org/stable/modules/preprocessing.html\n",
      "Please also refer to the documentation for alternative solver options:\n",
      "    https://scikit-learn.org/stable/modules/linear_model.html#logistic-regression\n",
      "  n_iter_i = _check_optimize_result(\n"
     ]
    }
   ],
   "source": [
    "LR = LogisticRegression()\n",
    "LR.fit(X_train, y_train)\n",
    "\n",
    "# Predicting the values\n",
    "y_predict = LR.predict(X_test)\n",
    "\n",
    "\n",
    "## Printing the classification report\n",
    "print(classification_report(y_test,y_predict))\n",
    "\n",
    "## Accuracy Score \n",
    "LR_SC = accuracy_score(y_predict,y_test)\n",
    "print(f\"{round(LR_SC*100,2)}% Accurate\")\n",
    "\n",
    "## Results of the model\n",
    "Logisitic_Regression = pd.DataFrame({'y_test':y_test, 'prediction':y_predict})\n",
    "Logisitic_Regression.to_csv('Logisitic Regression.csv')"
   ]
  },
  {
   "cell_type": "markdown",
   "id": "653b6bcb",
   "metadata": {},
   "source": [
    "# SVM"
   ]
  },
  {
   "cell_type": "code",
   "execution_count": 51,
   "id": "b8f24505",
   "metadata": {},
   "outputs": [
    {
     "name": "stdout",
     "output_type": "stream",
     "text": [
      "              precision    recall  f1-score   support\n",
      "\n",
      "           0       0.00      0.00      0.00        51\n",
      "           1       0.72      1.00      0.84       134\n",
      "\n",
      "    accuracy                           0.72       185\n",
      "   macro avg       0.36      0.50      0.42       185\n",
      "weighted avg       0.52      0.72      0.61       185\n",
      "\n",
      "72.43% Accurate\n"
     ]
    },
    {
     "name": "stderr",
     "output_type": "stream",
     "text": [
      "C:\\Users\\Ramesh kumar\\anaconda1\\lib\\site-packages\\sklearn\\metrics\\_classification.py:1318: UndefinedMetricWarning: Precision and F-score are ill-defined and being set to 0.0 in labels with no predicted samples. Use `zero_division` parameter to control this behavior.\n",
      "  _warn_prf(average, modifier, msg_start, len(result))\n",
      "C:\\Users\\Ramesh kumar\\anaconda1\\lib\\site-packages\\sklearn\\metrics\\_classification.py:1318: UndefinedMetricWarning: Precision and F-score are ill-defined and being set to 0.0 in labels with no predicted samples. Use `zero_division` parameter to control this behavior.\n",
      "  _warn_prf(average, modifier, msg_start, len(result))\n",
      "C:\\Users\\Ramesh kumar\\anaconda1\\lib\\site-packages\\sklearn\\metrics\\_classification.py:1318: UndefinedMetricWarning: Precision and F-score are ill-defined and being set to 0.0 in labels with no predicted samples. Use `zero_division` parameter to control this behavior.\n",
      "  _warn_prf(average, modifier, msg_start, len(result))\n"
     ]
    }
   ],
   "source": [
    "from sklearn.svm import SVC\n",
    "sv = SVC()\n",
    "sv.fit(X_train, y_train)\n",
    "\n",
    "# Predicting the values\n",
    "y_predict = sv.predict(X_test)\n",
    "\n",
    "\n",
    "## Printing the classification report\n",
    "print(classification_report(y_test,y_predict))\n",
    "\n",
    "## Accuracy Score \n",
    "sv_SC = accuracy_score(y_predict,y_test)\n",
    "print(f\"{round(sv_SC*100,2)}% Accurate\")\n",
    "\n",
    "## Results of the model\n",
    "SVM = pd.DataFrame({'y_test':y_test, 'prediction':y_predict})\n",
    "SVM.to_csv('SVM.csv')"
   ]
  },
  {
   "cell_type": "markdown",
   "id": "a3a919a6",
   "metadata": {},
   "source": [
    "# Conclusion  "
   ]
  },
  {
   "cell_type": "markdown",
   "id": "f6754c7b",
   "metadata": {},
   "source": [
    "1.Credit_History is the variable that impacts the Loan_Status variable (Higher Dependencies)\n",
    "\n",
    "2.The Logisitic Regression Model is the most accurate model : 83.24% Accurate"
   ]
  },
  {
   "cell_type": "code",
   "execution_count": 52,
   "id": "874a9a69",
   "metadata": {
    "scrolled": true
   },
   "outputs": [
    {
     "data": {
      "text/html": [
       "<div>\n",
       "<style scoped>\n",
       "    .dataframe tbody tr th:only-of-type {\n",
       "        vertical-align: middle;\n",
       "    }\n",
       "\n",
       "    .dataframe tbody tr th {\n",
       "        vertical-align: top;\n",
       "    }\n",
       "\n",
       "    .dataframe thead th {\n",
       "        text-align: right;\n",
       "    }\n",
       "</style>\n",
       "<table border=\"1\" class=\"dataframe\">\n",
       "  <thead>\n",
       "    <tr style=\"text-align: right;\">\n",
       "      <th></th>\n",
       "      <th>n_neighbors</th>\n",
       "      <th>Score</th>\n",
       "    </tr>\n",
       "  </thead>\n",
       "  <tbody>\n",
       "    <tr>\n",
       "      <th>3</th>\n",
       "      <td>Logistic Regression</td>\n",
       "      <td>0.832432</td>\n",
       "    </tr>\n",
       "    <tr>\n",
       "      <th>1</th>\n",
       "      <td>Random Forest</td>\n",
       "      <td>0.800000</td>\n",
       "    </tr>\n",
       "    <tr>\n",
       "      <th>2</th>\n",
       "      <td>XGBoost</td>\n",
       "      <td>0.794595</td>\n",
       "    </tr>\n",
       "    <tr>\n",
       "      <th>4</th>\n",
       "      <td>SVM</td>\n",
       "      <td>0.724324</td>\n",
       "    </tr>\n",
       "    <tr>\n",
       "      <th>0</th>\n",
       "      <td>Decision Tree</td>\n",
       "      <td>0.708108</td>\n",
       "    </tr>\n",
       "  </tbody>\n",
       "</table>\n",
       "</div>"
      ],
      "text/plain": [
       "           n_neighbors     Score\n",
       "3  Logistic Regression  0.832432\n",
       "1        Random Forest  0.800000\n",
       "2              XGBoost  0.794595\n",
       "4                  SVM  0.724324\n",
       "0        Decision Tree  0.708108"
      ]
     },
     "execution_count": 52,
     "metadata": {},
     "output_type": "execute_result"
    }
   ],
   "source": [
    "# Scores from all 5 models\n",
    "scores = [DT_SC,RF_SC,XGB_SC,LR_SC,sv_SC]\n",
    "\n",
    "models = pd.DataFrame({\n",
    "    'n_neighbors': [\"Decision Tree\",\"Random Forest\",\"XGBoost\", \"Logistic Regression\", \"SVM\"],\n",
    "    'Score': scores\n",
    "})\n",
    "\n",
    "models.sort_values(by='Score', ascending=False)"
   ]
  }
 ],
 "metadata": {
  "kernelspec": {
   "display_name": "Python 3 (ipykernel)",
   "language": "python",
   "name": "python3"
  },
  "language_info": {
   "codemirror_mode": {
    "name": "ipython",
    "version": 3
   },
   "file_extension": ".py",
   "mimetype": "text/x-python",
   "name": "python",
   "nbconvert_exporter": "python",
   "pygments_lexer": "ipython3",
   "version": "3.8.11"
  }
 },
 "nbformat": 4,
 "nbformat_minor": 5
}
